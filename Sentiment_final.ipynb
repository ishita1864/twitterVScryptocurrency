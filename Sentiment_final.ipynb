{
 "cells": [
  {
   "cell_type": "code",
   "execution_count": 1,
   "metadata": {},
   "outputs": [],
   "source": [
    "import pandas as pd\n",
    "import matplotlib.pyplot as plt\n",
    "import matplotlib.patches as mpatches\n",
    "%matplotlib inline  \n",
    "import nltk\n",
    "from nltk import word_tokenize, sent_tokenize\n",
    "from nltk.corpus import stopwords\n",
    "from nltk.stem import LancasterStemmer, WordNetLemmatizer, PorterStemmer\n",
    "from wordcloud import WordCloud, STOPWORDS\n",
    "from textblob import TextBlob\n",
    "import re\n",
    "import sys\n",
    "from nltk.corpus import stopwords\n",
    "from nltk.tokenize import word_tokenize\n",
    "import numpy as np\n",
    "# Importing library for stemming\n",
    "from nltk.stem import PorterStemmer\n",
    "stemming = PorterStemmer()\n",
    "from nltk.stem.wordnet import WordNetLemmatizer\n",
    "lemmatizing = WordNetLemmatizer()\n",
    "from nltk.sentiment.vader import SentimentIntensityAnalyzer\n",
    "from sklearn.naive_bayes import ComplementNB\n",
    "from sklearn.model_selection import GridSearchCV\n",
    "from sklearn.model_selection import cross_val_score\n",
    "from sklearn import metrics\n",
    "from math import *"
   ]
  },
  {
   "cell_type": "code",
   "execution_count": 2,
   "metadata": {},
   "outputs": [
    {
     "name": "stderr",
     "output_type": "stream",
     "text": [
      "D:\\Softwares\\Anaconda\\lib\\site-packages\\IPython\\core\\interactiveshell.py:3444: DtypeWarning: Columns (12) have mixed types.Specify dtype option on import or set low_memory=False.\n",
      "  exec(code_obj, self.user_global_ns, self.user_ns)\n"
     ]
    }
   ],
   "source": [
    "df = pd.read_csv('Bitcoin_tweets.csv', usecols = ['user_name','date', 'text', 'is_retweet', 'source'])"
   ]
  },
  {
   "cell_type": "code",
   "execution_count": 3,
   "metadata": {},
   "outputs": [
    {
     "data": {
      "text/html": [
       "<div>\n",
       "<style scoped>\n",
       "    .dataframe tbody tr th:only-of-type {\n",
       "        vertical-align: middle;\n",
       "    }\n",
       "\n",
       "    .dataframe tbody tr th {\n",
       "        vertical-align: top;\n",
       "    }\n",
       "\n",
       "    .dataframe thead th {\n",
       "        text-align: right;\n",
       "    }\n",
       "</style>\n",
       "<table border=\"1\" class=\"dataframe\">\n",
       "  <thead>\n",
       "    <tr style=\"text-align: right;\">\n",
       "      <th></th>\n",
       "      <th>user_name</th>\n",
       "      <th>date</th>\n",
       "      <th>text</th>\n",
       "      <th>source</th>\n",
       "      <th>is_retweet</th>\n",
       "    </tr>\n",
       "  </thead>\n",
       "  <tbody>\n",
       "    <tr>\n",
       "      <th>4</th>\n",
       "      <td>Alex Kirchmaier 🇦🇹🇸🇪 #FactsSuperspreader</td>\n",
       "      <td>2021-02-10 23:54:06</td>\n",
       "      <td>This network is secured by 9 508 nodes as of t...</td>\n",
       "      <td>Twitter Web App</td>\n",
       "      <td>False</td>\n",
       "    </tr>\n",
       "    <tr>\n",
       "      <th>12</th>\n",
       "      <td>CPUcoin</td>\n",
       "      <td>2021-02-10 23:50:59</td>\n",
       "      <td>Join our first virtual crypto meetup of 2021 -...</td>\n",
       "      <td>Twitter Web App</td>\n",
       "      <td>False</td>\n",
       "    </tr>\n",
       "    <tr>\n",
       "      <th>21</th>\n",
       "      <td>Crypto M🕶️stache ! 🇧🇪🇯🇴🇳🇱🇮🇪</td>\n",
       "      <td>2021-02-10 23:46:17</td>\n",
       "      <td>Forget all you know about #cryptocurrency \\nTh...</td>\n",
       "      <td>Twitter for Android</td>\n",
       "      <td>False</td>\n",
       "    </tr>\n",
       "    <tr>\n",
       "      <th>29</th>\n",
       "      <td>Adriana Itzel</td>\n",
       "      <td>2021-02-10 23:42:22</td>\n",
       "      <td>Binance is the #1 crypto trading platform for ...</td>\n",
       "      <td>Twitter Web App</td>\n",
       "      <td>False</td>\n",
       "    </tr>\n",
       "    <tr>\n",
       "      <th>32</th>\n",
       "      <td>100UnitBets</td>\n",
       "      <td>2021-02-10 23:40:21</td>\n",
       "      <td>We accept #Bitcoin, #BitcoinCash #Litecoin and...</td>\n",
       "      <td>Twitter Web App</td>\n",
       "      <td>False</td>\n",
       "    </tr>\n",
       "    <tr>\n",
       "      <th>...</th>\n",
       "      <td>...</td>\n",
       "      <td>...</td>\n",
       "      <td>...</td>\n",
       "      <td>...</td>\n",
       "      <td>...</td>\n",
       "    </tr>\n",
       "    <tr>\n",
       "      <th>2259714</th>\n",
       "      <td>Scottish Fold Token</td>\n",
       "      <td>2022-01-19 19:11:34</td>\n",
       "      <td>Please follow us on Instagram 📸\\n\\nhttps://t.c...</td>\n",
       "      <td>Twitter for Android</td>\n",
       "      <td>False</td>\n",
       "    </tr>\n",
       "    <tr>\n",
       "      <th>2259727</th>\n",
       "      <td>Buse Konmaz</td>\n",
       "      <td>2022-01-19 19:10:53</td>\n",
       "      <td>May be depth #BTC #BTCUSDT #BTCUSD #Bitcoin ht...</td>\n",
       "      <td>Twitter Web App</td>\n",
       "      <td>False</td>\n",
       "    </tr>\n",
       "    <tr>\n",
       "      <th>2259734</th>\n",
       "      <td>𝓜𝓪𝓼𝓽𝓮𝓻 𝓙𝓮𝓭𝓲</td>\n",
       "      <td>2022-01-19 19:10:34</td>\n",
       "      <td>🪙Gold ⬆️ #Btc ⬇️</td>\n",
       "      <td>Twitter for Android</td>\n",
       "      <td>False</td>\n",
       "    </tr>\n",
       "    <tr>\n",
       "      <th>2259775</th>\n",
       "      <td>Diarmuid MacDonald</td>\n",
       "      <td>2022-01-19 19:08:42</td>\n",
       "      <td>@crypto No need to market it - anyone who is i...</td>\n",
       "      <td>Twitter Web App</td>\n",
       "      <td>False</td>\n",
       "    </tr>\n",
       "    <tr>\n",
       "      <th>2259782</th>\n",
       "      <td>JAYECANE</td>\n",
       "      <td>2022-01-19 19:08:16</td>\n",
       "      <td>if I send you #BITCOIN it takes 10 mins before...</td>\n",
       "      <td>Twitter for iPhone</td>\n",
       "      <td>False</td>\n",
       "    </tr>\n",
       "  </tbody>\n",
       "</table>\n",
       "<p>202870 rows × 5 columns</p>\n",
       "</div>"
      ],
      "text/plain": [
       "                                        user_name                 date  \\\n",
       "4        Alex Kirchmaier 🇦🇹🇸🇪 #FactsSuperspreader  2021-02-10 23:54:06   \n",
       "12                                        CPUcoin  2021-02-10 23:50:59   \n",
       "21                    Crypto M🕶️stache ! 🇧🇪🇯🇴🇳🇱🇮🇪  2021-02-10 23:46:17   \n",
       "29                                  Adriana Itzel  2021-02-10 23:42:22   \n",
       "32                                    100UnitBets  2021-02-10 23:40:21   \n",
       "...                                           ...                  ...   \n",
       "2259714                       Scottish Fold Token  2022-01-19 19:11:34   \n",
       "2259727                               Buse Konmaz  2022-01-19 19:10:53   \n",
       "2259734                               𝓜𝓪𝓼𝓽𝓮𝓻 𝓙𝓮𝓭𝓲  2022-01-19 19:10:34   \n",
       "2259775                        Diarmuid MacDonald  2022-01-19 19:08:42   \n",
       "2259782                                  JAYECANE  2022-01-19 19:08:16   \n",
       "\n",
       "                                                      text  \\\n",
       "4        This network is secured by 9 508 nodes as of t...   \n",
       "12       Join our first virtual crypto meetup of 2021 -...   \n",
       "21       Forget all you know about #cryptocurrency \\nTh...   \n",
       "29       Binance is the #1 crypto trading platform for ...   \n",
       "32       We accept #Bitcoin, #BitcoinCash #Litecoin and...   \n",
       "...                                                    ...   \n",
       "2259714  Please follow us on Instagram 📸\\n\\nhttps://t.c...   \n",
       "2259727  May be depth #BTC #BTCUSDT #BTCUSD #Bitcoin ht...   \n",
       "2259734                                   🪙Gold ⬆️ #Btc ⬇️   \n",
       "2259775  @crypto No need to market it - anyone who is i...   \n",
       "2259782  if I send you #BITCOIN it takes 10 mins before...   \n",
       "\n",
       "                      source is_retweet  \n",
       "4            Twitter Web App      False  \n",
       "12           Twitter Web App      False  \n",
       "21       Twitter for Android      False  \n",
       "29           Twitter Web App      False  \n",
       "32           Twitter Web App      False  \n",
       "...                      ...        ...  \n",
       "2259714  Twitter for Android      False  \n",
       "2259727      Twitter Web App      False  \n",
       "2259734  Twitter for Android      False  \n",
       "2259775      Twitter Web App      False  \n",
       "2259782   Twitter for iPhone      False  \n",
       "\n",
       "[202870 rows x 5 columns]"
      ]
     },
     "execution_count": 3,
     "metadata": {},
     "output_type": "execute_result"
    }
   ],
   "source": [
    "df = df.astype({'user_name': 'str'})\n",
    "df.drop_duplicates(subset =\"user_name\", keep = False, inplace = True)\n",
    "df.drop(df[(df['is_retweet'] == 'TRUE')].index, inplace=True)\n",
    "df"
   ]
  },
  {
   "cell_type": "code",
   "execution_count": 4,
   "metadata": {},
   "outputs": [],
   "source": [
    "df = df.drop(['user_name','is_retweet'], axis = 1)\n",
    "df.dropna()\n",
    "df = df.astype({'text': 'str'})"
   ]
  },
  {
   "cell_type": "code",
   "execution_count": 5,
   "metadata": {},
   "outputs": [
    {
     "data": {
      "text/html": [
       "<div>\n",
       "<style scoped>\n",
       "    .dataframe tbody tr th:only-of-type {\n",
       "        vertical-align: middle;\n",
       "    }\n",
       "\n",
       "    .dataframe tbody tr th {\n",
       "        vertical-align: top;\n",
       "    }\n",
       "\n",
       "    .dataframe thead th {\n",
       "        text-align: right;\n",
       "    }\n",
       "</style>\n",
       "<table border=\"1\" class=\"dataframe\">\n",
       "  <thead>\n",
       "    <tr style=\"text-align: right;\">\n",
       "      <th></th>\n",
       "      <th>date</th>\n",
       "      <th>text</th>\n",
       "      <th>source</th>\n",
       "      <th>clean_tweet</th>\n",
       "    </tr>\n",
       "  </thead>\n",
       "  <tbody>\n",
       "    <tr>\n",
       "      <th>4</th>\n",
       "      <td>2021-02-10 23:54:06</td>\n",
       "      <td>This network is secured by 9 508 nodes as of t...</td>\n",
       "      <td>Twitter Web App</td>\n",
       "      <td>This network is secured by 9 508 nodes as of t...</td>\n",
       "    </tr>\n",
       "    <tr>\n",
       "      <th>12</th>\n",
       "      <td>2021-02-10 23:50:59</td>\n",
       "      <td>Join our first virtual crypto meetup of 2021 -...</td>\n",
       "      <td>Twitter Web App</td>\n",
       "      <td>Join our first virtual crypto meetup of 2021 -...</td>\n",
       "    </tr>\n",
       "    <tr>\n",
       "      <th>21</th>\n",
       "      <td>2021-02-10 23:46:17</td>\n",
       "      <td>Forget all you know about #cryptocurrency \\nTh...</td>\n",
       "      <td>Twitter for Android</td>\n",
       "      <td>Forget all you know about #cryptocurrency \\nTh...</td>\n",
       "    </tr>\n",
       "    <tr>\n",
       "      <th>29</th>\n",
       "      <td>2021-02-10 23:42:22</td>\n",
       "      <td>Binance is the #1 crypto trading platform for ...</td>\n",
       "      <td>Twitter Web App</td>\n",
       "      <td>Binance is the #1 crypto trading platform for ...</td>\n",
       "    </tr>\n",
       "    <tr>\n",
       "      <th>32</th>\n",
       "      <td>2021-02-10 23:40:21</td>\n",
       "      <td>We accept #Bitcoin, #BitcoinCash #Litecoin and...</td>\n",
       "      <td>Twitter Web App</td>\n",
       "      <td>We accept #Bitcoin, #BitcoinCash #Litecoin and...</td>\n",
       "    </tr>\n",
       "    <tr>\n",
       "      <th>...</th>\n",
       "      <td>...</td>\n",
       "      <td>...</td>\n",
       "      <td>...</td>\n",
       "      <td>...</td>\n",
       "    </tr>\n",
       "    <tr>\n",
       "      <th>105020</th>\n",
       "      <td>2021-04-18 06:21:08</td>\n",
       "      <td>This is crypto!\\n\\n#bitcoin #btc #ripple #xrp ...</td>\n",
       "      <td>Twitter for iPhone</td>\n",
       "      <td>This is crypto!\\n\\n#bitcoin #btc #ripple #xrp ...</td>\n",
       "    </tr>\n",
       "    <tr>\n",
       "      <th>105025</th>\n",
       "      <td>2021-04-18 06:19:37</td>\n",
       "      <td>$DOGE get ready... about to breakout again. Th...</td>\n",
       "      <td>Twitter Web App</td>\n",
       "      <td>$DOGE get ready... about to breakout again. Th...</td>\n",
       "    </tr>\n",
       "    <tr>\n",
       "      <th>105050</th>\n",
       "      <td>2021-04-18 06:13:49</td>\n",
       "      <td>#Bitcoin is down $10,000 in 1 day and took sup...</td>\n",
       "      <td>Twitter for Android</td>\n",
       "      <td>#Bitcoin is down $10,000 in 1 day and took sup...</td>\n",
       "    </tr>\n",
       "    <tr>\n",
       "      <th>105052</th>\n",
       "      <td>2021-04-18 06:12:37</td>\n",
       "      <td>ALL #CRYPTOCURRENCY #CRYPTO #CURRENCY #BITCOIN...</td>\n",
       "      <td>Twitter Web App</td>\n",
       "      <td>ALL #CRYPTOCURRENCY #CRYPTO #CURRENCY #BITCOIN...</td>\n",
       "    </tr>\n",
       "    <tr>\n",
       "      <th>105057</th>\n",
       "      <td>2021-04-18 06:10:21</td>\n",
       "      <td>Profit taking in crypto space is temporary. It...</td>\n",
       "      <td>Twitter for Android</td>\n",
       "      <td>Profit taking in crypto space is temporary. It...</td>\n",
       "    </tr>\n",
       "  </tbody>\n",
       "</table>\n",
       "<p>10000 rows × 4 columns</p>\n",
       "</div>"
      ],
      "text/plain": [
       "                       date  \\\n",
       "4       2021-02-10 23:54:06   \n",
       "12      2021-02-10 23:50:59   \n",
       "21      2021-02-10 23:46:17   \n",
       "29      2021-02-10 23:42:22   \n",
       "32      2021-02-10 23:40:21   \n",
       "...                     ...   \n",
       "105020  2021-04-18 06:21:08   \n",
       "105025  2021-04-18 06:19:37   \n",
       "105050  2021-04-18 06:13:49   \n",
       "105052  2021-04-18 06:12:37   \n",
       "105057  2021-04-18 06:10:21   \n",
       "\n",
       "                                                     text  \\\n",
       "4       This network is secured by 9 508 nodes as of t...   \n",
       "12      Join our first virtual crypto meetup of 2021 -...   \n",
       "21      Forget all you know about #cryptocurrency \\nTh...   \n",
       "29      Binance is the #1 crypto trading platform for ...   \n",
       "32      We accept #Bitcoin, #BitcoinCash #Litecoin and...   \n",
       "...                                                   ...   \n",
       "105020  This is crypto!\\n\\n#bitcoin #btc #ripple #xrp ...   \n",
       "105025  $DOGE get ready... about to breakout again. Th...   \n",
       "105050  #Bitcoin is down $10,000 in 1 day and took sup...   \n",
       "105052  ALL #CRYPTOCURRENCY #CRYPTO #CURRENCY #BITCOIN...   \n",
       "105057  Profit taking in crypto space is temporary. It...   \n",
       "\n",
       "                     source                                        clean_tweet  \n",
       "4           Twitter Web App  This network is secured by 9 508 nodes as of t...  \n",
       "12          Twitter Web App  Join our first virtual crypto meetup of 2021 -...  \n",
       "21      Twitter for Android  Forget all you know about #cryptocurrency \\nTh...  \n",
       "29          Twitter Web App  Binance is the #1 crypto trading platform for ...  \n",
       "32          Twitter Web App  We accept #Bitcoin, #BitcoinCash #Litecoin and...  \n",
       "...                     ...                                                ...  \n",
       "105020   Twitter for iPhone  This is crypto!\\n\\n#bitcoin #btc #ripple #xrp ...  \n",
       "105025      Twitter Web App  $DOGE get ready... about to breakout again. Th...  \n",
       "105050  Twitter for Android  #Bitcoin is down $10,000 in 1 day and took sup...  \n",
       "105052      Twitter Web App  ALL #CRYPTOCURRENCY #CRYPTO #CURRENCY #BITCOIN...  \n",
       "105057  Twitter for Android  Profit taking in crypto space is temporary. It...  \n",
       "\n",
       "[10000 rows x 4 columns]"
      ]
     },
     "execution_count": 5,
     "metadata": {},
     "output_type": "execute_result"
    }
   ],
   "source": [
    "def remove_pattern(input_txt, pattern):\n",
    "    r = re.findall(pattern, input_txt)\n",
    "    for i in r:\n",
    "        input_txt = re.sub(i, '', input_txt)\n",
    "    return input_txt\n",
    "df['clean_tweet'] = np.vectorize(remove_pattern)(df['text'], \"@[\\w]*\")\n",
    "df.head(10000)"
   ]
  },
  {
   "cell_type": "code",
   "execution_count": 6,
   "metadata": {},
   "outputs": [],
   "source": [
    "df['clean_tweet'] =df['clean_tweet'].apply(lambda x: x.lower())\n",
    "df['clean_tweet'] =df['clean_tweet'].apply(lambda x: re.sub(r'https?:\\/\\/\\S*', ' ', x))\n",
    "df['clean_tweet'] =df['clean_tweet'].apply(lambda x: re.sub(r'[^\\w\\s]',' ',x))\n",
    "df['clean_tweet'] =df['clean_tweet'].apply(lambda x: re.sub(r'[^a-zA-Z0-9]',' ',x))\n",
    "df['clean_tweet'] =df['clean_tweet'].apply(lambda x: re.sub(r'[^a-zA-Z]',' ',x))\n",
    "df = df[~df[\"source\"].str.contains(\"bot\", na=False)]\n",
    "df = df[~df[\"source\"].str.contains(\"nan\", na=False)]"
   ]
  },
  {
   "cell_type": "code",
   "execution_count": 7,
   "metadata": {},
   "outputs": [
    {
     "data": {
      "text/html": [
       "<div>\n",
       "<style scoped>\n",
       "    .dataframe tbody tr th:only-of-type {\n",
       "        vertical-align: middle;\n",
       "    }\n",
       "\n",
       "    .dataframe tbody tr th {\n",
       "        vertical-align: top;\n",
       "    }\n",
       "\n",
       "    .dataframe thead th {\n",
       "        text-align: right;\n",
       "    }\n",
       "</style>\n",
       "<table border=\"1\" class=\"dataframe\">\n",
       "  <thead>\n",
       "    <tr style=\"text-align: right;\">\n",
       "      <th></th>\n",
       "      <th>date</th>\n",
       "      <th>text</th>\n",
       "      <th>source</th>\n",
       "      <th>clean_tweet</th>\n",
       "      <th>tweet_token</th>\n",
       "      <th>tweet_token_filtered</th>\n",
       "      <th>tweet_stemmed</th>\n",
       "      <th>tweet_lemmatized</th>\n",
       "    </tr>\n",
       "  </thead>\n",
       "  <tbody>\n",
       "    <tr>\n",
       "      <th>4</th>\n",
       "      <td>2021-02-10 23:54:06</td>\n",
       "      <td>This network is secured by 9 508 nodes as of t...</td>\n",
       "      <td>Twitter Web App</td>\n",
       "      <td>this network is secured by       nodes as of t...</td>\n",
       "      <td>[this, network, is, secured, by, nodes, as, of...</td>\n",
       "      <td>[network, secured, nodes, today, soon, biggest...</td>\n",
       "      <td>network secur node today soon biggest bear rec...</td>\n",
       "      <td>network secur node today soon biggest bear rec...</td>\n",
       "    </tr>\n",
       "    <tr>\n",
       "      <th>12</th>\n",
       "      <td>2021-02-10 23:50:59</td>\n",
       "      <td>Join our first virtual crypto meetup of 2021 -...</td>\n",
       "      <td>Twitter Web App</td>\n",
       "      <td>join our first virtual crypto meetup of       ...</td>\n",
       "      <td>[join, our, first, virtual, crypto, meetup, of...</td>\n",
       "      <td>[join, first, virtual, crypto, meetup, crypto,...</td>\n",
       "      <td>join first virtual crypto meetup crypto friday...</td>\n",
       "      <td>join first virtual crypto meetup crypto friday...</td>\n",
       "    </tr>\n",
       "    <tr>\n",
       "      <th>21</th>\n",
       "      <td>2021-02-10 23:46:17</td>\n",
       "      <td>Forget all you know about #cryptocurrency \\nTh...</td>\n",
       "      <td>Twitter for Android</td>\n",
       "      <td>forget all you know about  cryptocurrency  the...</td>\n",
       "      <td>[forget, all, you, know, about, cryptocurrency...</td>\n",
       "      <td>[forget, know, cryptocurrency, coins, listed, ...</td>\n",
       "      <td>forget know cryptocurr coin list nasdaq etf re...</td>\n",
       "      <td>forget know cryptocurr coin list nasdaq etf re...</td>\n",
       "    </tr>\n",
       "    <tr>\n",
       "      <th>29</th>\n",
       "      <td>2021-02-10 23:42:22</td>\n",
       "      <td>Binance is the #1 crypto trading platform for ...</td>\n",
       "      <td>Twitter Web App</td>\n",
       "      <td>binance is the    crypto trading platform for ...</td>\n",
       "      <td>[binance, is, the, crypto, trading, platform, ...</td>\n",
       "      <td>[binance, crypto, trading, platform, beginners...</td>\n",
       "      <td>binanc crypto trade platform beginn expert sign</td>\n",
       "      <td>binanc crypto trade platform beginn expert sign</td>\n",
       "    </tr>\n",
       "    <tr>\n",
       "      <th>32</th>\n",
       "      <td>2021-02-10 23:40:21</td>\n",
       "      <td>We accept #Bitcoin, #BitcoinCash #Litecoin and...</td>\n",
       "      <td>Twitter Web App</td>\n",
       "      <td>we accept  bitcoin   bitcoincash  litecoin and...</td>\n",
       "      <td>[we, accept, bitcoin, bitcoincash, litecoin, a...</td>\n",
       "      <td>[accept, bitcoin, bitcoincash, litecoin, ether...</td>\n",
       "      <td>accept bitcoin bitcoincash litecoin ethereum a...</td>\n",
       "      <td>accept bitcoin bitcoincash litecoin ethereum a...</td>\n",
       "    </tr>\n",
       "  </tbody>\n",
       "</table>\n",
       "</div>"
      ],
      "text/plain": [
       "                   date                                               text  \\\n",
       "4   2021-02-10 23:54:06  This network is secured by 9 508 nodes as of t...   \n",
       "12  2021-02-10 23:50:59  Join our first virtual crypto meetup of 2021 -...   \n",
       "21  2021-02-10 23:46:17  Forget all you know about #cryptocurrency \\nTh...   \n",
       "29  2021-02-10 23:42:22  Binance is the #1 crypto trading platform for ...   \n",
       "32  2021-02-10 23:40:21  We accept #Bitcoin, #BitcoinCash #Litecoin and...   \n",
       "\n",
       "                 source                                        clean_tweet  \\\n",
       "4       Twitter Web App  this network is secured by       nodes as of t...   \n",
       "12      Twitter Web App  join our first virtual crypto meetup of       ...   \n",
       "21  Twitter for Android  forget all you know about  cryptocurrency  the...   \n",
       "29      Twitter Web App  binance is the    crypto trading platform for ...   \n",
       "32      Twitter Web App  we accept  bitcoin   bitcoincash  litecoin and...   \n",
       "\n",
       "                                          tweet_token  \\\n",
       "4   [this, network, is, secured, by, nodes, as, of...   \n",
       "12  [join, our, first, virtual, crypto, meetup, of...   \n",
       "21  [forget, all, you, know, about, cryptocurrency...   \n",
       "29  [binance, is, the, crypto, trading, platform, ...   \n",
       "32  [we, accept, bitcoin, bitcoincash, litecoin, a...   \n",
       "\n",
       "                                 tweet_token_filtered  \\\n",
       "4   [network, secured, nodes, today, soon, biggest...   \n",
       "12  [join, first, virtual, crypto, meetup, crypto,...   \n",
       "21  [forget, know, cryptocurrency, coins, listed, ...   \n",
       "29  [binance, crypto, trading, platform, beginners...   \n",
       "32  [accept, bitcoin, bitcoincash, litecoin, ether...   \n",
       "\n",
       "                                        tweet_stemmed  \\\n",
       "4   network secur node today soon biggest bear rec...   \n",
       "12  join first virtual crypto meetup crypto friday...   \n",
       "21  forget know cryptocurr coin list nasdaq etf re...   \n",
       "29    binanc crypto trade platform beginn expert sign   \n",
       "32  accept bitcoin bitcoincash litecoin ethereum a...   \n",
       "\n",
       "                                     tweet_lemmatized  \n",
       "4   network secur node today soon biggest bear rec...  \n",
       "12  join first virtual crypto meetup crypto friday...  \n",
       "21  forget know cryptocurr coin list nasdaq etf re...  \n",
       "29    binanc crypto trade platform beginn expert sign  \n",
       "32  accept bitcoin bitcoincash litecoin ethereum a...  "
      ]
     },
     "execution_count": 7,
     "metadata": {},
     "output_type": "execute_result"
    }
   ],
   "source": [
    "df['tweet_token'] =df['clean_tweet'].apply(lambda x: word_tokenize(x))\n",
    "stop_words = set(stopwords.words('english'))\n",
    "df['tweet_token_filtered'] =df['tweet_token'].apply(lambda x: [word for word in x if not word in stop_words])\n",
    "df['tweet_stemmed']=df['tweet_token_filtered'].apply(lambda x: ' '.join([stemming.stem(i) for i in x]))\n",
    "df['tweet_lemmatized']=df['tweet_stemmed'].apply(lambda x: ''.join([lemmatizing.lemmatize(i) for i in x]))\n",
    "df.head()"
   ]
  },
  {
   "cell_type": "code",
   "execution_count": 8,
   "metadata": {
    "scrolled": true
   },
   "outputs": [
    {
     "data": {
      "text/html": [
       "<div>\n",
       "<style scoped>\n",
       "    .dataframe tbody tr th:only-of-type {\n",
       "        vertical-align: middle;\n",
       "    }\n",
       "\n",
       "    .dataframe tbody tr th {\n",
       "        vertical-align: top;\n",
       "    }\n",
       "\n",
       "    .dataframe thead th {\n",
       "        text-align: right;\n",
       "    }\n",
       "</style>\n",
       "<table border=\"1\" class=\"dataframe\">\n",
       "  <thead>\n",
       "    <tr style=\"text-align: right;\">\n",
       "      <th></th>\n",
       "      <th>date</th>\n",
       "      <th>text</th>\n",
       "      <th>source</th>\n",
       "      <th>clean_tweet</th>\n",
       "      <th>tweet_token</th>\n",
       "      <th>tweet_token_filtered</th>\n",
       "      <th>tweet_stemmed</th>\n",
       "      <th>tweet_lemmatized</th>\n",
       "      <th>text_clean</th>\n",
       "    </tr>\n",
       "  </thead>\n",
       "  <tbody>\n",
       "    <tr>\n",
       "      <th>4</th>\n",
       "      <td>2021-02-10 23:54:06</td>\n",
       "      <td>This network is secured by 9 508 nodes as of t...</td>\n",
       "      <td>Twitter Web App</td>\n",
       "      <td>this network is secured by       nodes as of t...</td>\n",
       "      <td>[this, network, is, secured, by, nodes, as, of...</td>\n",
       "      <td>[network, secured, nodes, today, soon, biggest...</td>\n",
       "      <td>network secur node today soon biggest bear rec...</td>\n",
       "      <td>network secur node today soon biggest bear rec...</td>\n",
       "      <td>network secur node today soon biggest bear rec...</td>\n",
       "    </tr>\n",
       "  </tbody>\n",
       "</table>\n",
       "</div>"
      ],
      "text/plain": [
       "                  date                                               text  \\\n",
       "4  2021-02-10 23:54:06  This network is secured by 9 508 nodes as of t...   \n",
       "\n",
       "            source                                        clean_tweet  \\\n",
       "4  Twitter Web App  this network is secured by       nodes as of t...   \n",
       "\n",
       "                                         tweet_token  \\\n",
       "4  [this, network, is, secured, by, nodes, as, of...   \n",
       "\n",
       "                                tweet_token_filtered  \\\n",
       "4  [network, secured, nodes, today, soon, biggest...   \n",
       "\n",
       "                                       tweet_stemmed  \\\n",
       "4  network secur node today soon biggest bear rec...   \n",
       "\n",
       "                                    tweet_lemmatized  \\\n",
       "4  network secur node today soon biggest bear rec...   \n",
       "\n",
       "                                          text_clean  \n",
       "4  network secur node today soon biggest bear rec...  "
      ]
     },
     "execution_count": 8,
     "metadata": {},
     "output_type": "execute_result"
    }
   ],
   "source": [
    "def remove_emoji(string):\n",
    "    emoji_pattern = re.compile(\"[\"\n",
    "                           u\"\\U0001F600-\\U0001F64F\"  # emoticons\n",
    "                           u\"\\U0001F300-\\U0001F5FF\"  # symbols & pictographs\n",
    "                           u\"\\U0001F680-\\U0001F6FF\"  # transport & map symbols\n",
    "                           u\"\\U0001F1E0-\\U0001F1FF\"  # flags (iOS)\n",
    "                           u\"\\U00002702-\\U000027B0\"\n",
    "                           u\"\\U000024C2-\\U0001F251\"\n",
    "                           \"]+\", flags=re.UNICODE)\n",
    "    return emoji_pattern.sub(r'', string)\n",
    "df['text_clean']=df['tweet_lemmatized'].apply(lambda x: remove_emoji(x))\n",
    "df.head(1)"
   ]
  },
  {
   "cell_type": "code",
   "execution_count": 9,
   "metadata": {},
   "outputs": [],
   "source": [
    "df['otext'] = df['text']\n",
    "df['text']=df['text_clean']"
   ]
  },
  {
   "cell_type": "code",
   "execution_count": 10,
   "metadata": {
    "scrolled": false
   },
   "outputs": [
    {
     "data": {
      "text/html": [
       "<div>\n",
       "<style scoped>\n",
       "    .dataframe tbody tr th:only-of-type {\n",
       "        vertical-align: middle;\n",
       "    }\n",
       "\n",
       "    .dataframe tbody tr th {\n",
       "        vertical-align: top;\n",
       "    }\n",
       "\n",
       "    .dataframe thead th {\n",
       "        text-align: right;\n",
       "    }\n",
       "</style>\n",
       "<table border=\"1\" class=\"dataframe\">\n",
       "  <thead>\n",
       "    <tr style=\"text-align: right;\">\n",
       "      <th></th>\n",
       "      <th>polarity</th>\n",
       "      <th>tweet</th>\n",
       "    </tr>\n",
       "  </thead>\n",
       "  <tbody>\n",
       "    <tr>\n",
       "      <th>0</th>\n",
       "      <td>-0.25</td>\n",
       "      <td>network secur node today soon biggest bear rec...</td>\n",
       "    </tr>\n",
       "    <tr>\n",
       "      <th>1</th>\n",
       "      <td>0.25</td>\n",
       "      <td>join first virtual crypto meetup crypto friday...</td>\n",
       "    </tr>\n",
       "    <tr>\n",
       "      <th>2</th>\n",
       "      <td>0.20</td>\n",
       "      <td>forget know cryptocurr coin list nasdaq etf re...</td>\n",
       "    </tr>\n",
       "    <tr>\n",
       "      <th>3</th>\n",
       "      <td>0.00</td>\n",
       "      <td>binanc crypto trade platform beginn expert sign</td>\n",
       "    </tr>\n",
       "    <tr>\n",
       "      <th>4</th>\n",
       "      <td>0.00</td>\n",
       "      <td>accept bitcoin bitcoincash litecoin ethereum a...</td>\n",
       "    </tr>\n",
       "  </tbody>\n",
       "</table>\n",
       "</div>"
      ],
      "text/plain": [
       "   polarity                                              tweet\n",
       "0     -0.25  network secur node today soon biggest bear rec...\n",
       "1      0.25  join first virtual crypto meetup crypto friday...\n",
       "2      0.20  forget know cryptocurr coin list nasdaq etf re...\n",
       "3      0.00    binanc crypto trade platform beginn expert sign\n",
       "4      0.00  accept bitcoin bitcoincash litecoin ethereum a..."
      ]
     },
     "execution_count": 10,
     "metadata": {},
     "output_type": "execute_result"
    }
   ],
   "source": [
    "for i in df['text']:\n",
    "    analysis = TextBlob(i).sentiment\n",
    "    #print(analysis) \n",
    "\n",
    "sentiment_objects = [TextBlob(tweet) for tweet in df['text']]\n",
    "sentiment_values = [[tweet.sentiment.polarity, str(tweet)] for tweet in sentiment_objects]\n",
    "sentiment_df = pd.DataFrame(sentiment_values, columns=[\"polarity\", \"tweet\"])\n",
    "\n",
    "sentiment_df.head()"
   ]
  },
  {
   "cell_type": "code",
   "execution_count": 11,
   "metadata": {},
   "outputs": [
    {
     "data": {
      "image/png": "[encoded data removed]",
      "text/plain": [
       "<Figure size 576x432 with 1 Axes>"
      ]
     },
     "metadata": {
      "needs_background": "light"
     },
     "output_type": "display_data"
    }
   ],
   "source": [
    "fig, ax = plt.subplots(figsize=(8, 6))\n",
    "\n",
    "# Plot histogram of the polarity values\n",
    "sentiment_df.hist(bins=[-1, -0.75, -0.5, -0.25, 0.25, 0.5, 0.75, 1],\n",
    "             ax=ax,\n",
    "             color=\"blue\")\n",
    "\n",
    "plt.title(\"Sentiments from Tweets on Bitcoin\")\n",
    "plt.show()"
   ]
  },
  {
   "cell_type": "code",
   "execution_count": 12,
   "metadata": {},
   "outputs": [
    {
     "data": {
      "image/png": "[encoded data removed]",
      "text/plain": [
       "<Figure size 576x432 with 1 Axes>"
      ]
     },
     "metadata": {
      "needs_background": "light"
     },
     "output_type": "display_data"
    }
   ],
   "source": [
    "sentiment_df = sentiment_df[sentiment_df.polarity != 0]\n",
    "fig, ax = plt.subplots(figsize=(8, 6))\n",
    "\n",
    "# Plot histogram with break at zero\n",
    "sentiment_df.hist(bins=[-1, -0.75, -0.5, -0.25, 0.0, 0.25, 0.5, 0.75, 1],\n",
    "             ax=ax,\n",
    "             color=\"blue\")\n",
    "\n",
    "plt.title(\"Sentiments from Tweets on Bitcoin\")\n",
    "plt.show()"
   ]
  },
  {
   "cell_type": "code",
   "execution_count": 13,
   "metadata": {},
   "outputs": [
    {
     "name": "stdout",
     "output_type": "stream",
     "text": [
      "4          network secur node today soon biggest bear rec...\n",
      "12         join first virtual crypto meetup crypto friday...\n",
      "21         forget know cryptocurr coin list nasdaq etf re...\n",
      "29           binanc crypto trade platform beginn expert sign\n",
      "32         accept bitcoin bitcoincash litecoin ethereum a...\n",
      "                                 ...                        \n",
      "2259714    pleas follow us instagram btc bnb eth blockcha...\n",
      "2259727                 may depth btc btcusdt btcusd bitcoin\n",
      "2259734                                             gold btc\n",
      "2259775    need market anyon interest alreadi know social...\n",
      "2259782    send bitcoin take min show expens send btc kno...\n",
      "Name: text, Length: 202756, dtype: object\n"
     ]
    }
   ],
   "source": [
    "df1 = pd.DataFrame()\n",
    "df1['text']=df['text']\n",
    "print(df1['text'])"
   ]
  },
  {
   "cell_type": "code",
   "execution_count": 14,
   "metadata": {},
   "outputs": [
    {
     "name": "stdout",
     "output_type": "stream",
     "text": [
      "4          -1\n",
      "12         +1\n",
      "21         +1\n",
      "29          0\n",
      "32          0\n",
      "           ..\n",
      "2259714     0\n",
      "2259727     0\n",
      "2259734     0\n",
      "2259775    +1\n",
      "2259782    +1\n",
      "Name: TextBlob_Analysis, Length: 202756, dtype: object\n"
     ]
    }
   ],
   "source": [
    "def getSubjectivity(text):\n",
    "    return TextBlob(text).sentiment.subjectivity\n",
    "\n",
    "def getPolarity(text):\n",
    "    return TextBlob(text).sentiment.polarity\n",
    "\n",
    "df1['TextBlob_Subjectivity'] = df1['text'].apply(getSubjectivity)\n",
    "df1['TextBlob_Polarity'] = df1['text'].apply(getPolarity)\n",
    "def getAnalysis(score):\n",
    "    if score < 0:\n",
    "        return '-1'\n",
    "    elif score == 0:\n",
    "        return '0'\n",
    "    else:\n",
    "        return '+1'\n",
    "df1['TextBlob_Analysis'] = df1['TextBlob_Polarity'].apply(getAnalysis)\n",
    "print(df1['TextBlob_Analysis'])"
   ]
  },
  {
   "cell_type": "code",
   "execution_count": 15,
   "metadata": {},
   "outputs": [],
   "source": [
    "df['score']= df1['TextBlob_Analysis']"
   ]
  },
  {
   "cell_type": "code",
   "execution_count": 16,
   "metadata": {},
   "outputs": [
    {
     "data": {
      "text/html": [
       "<div>\n",
       "<style scoped>\n",
       "    .dataframe tbody tr th:only-of-type {\n",
       "        vertical-align: middle;\n",
       "    }\n",
       "\n",
       "    .dataframe tbody tr th {\n",
       "        vertical-align: top;\n",
       "    }\n",
       "\n",
       "    .dataframe thead th {\n",
       "        text-align: right;\n",
       "    }\n",
       "</style>\n",
       "<table border=\"1\" class=\"dataframe\">\n",
       "  <thead>\n",
       "    <tr style=\"text-align: right;\">\n",
       "      <th></th>\n",
       "      <th>date</th>\n",
       "      <th>text</th>\n",
       "      <th>source</th>\n",
       "      <th>clean_tweet</th>\n",
       "      <th>tweet_token</th>\n",
       "      <th>tweet_token_filtered</th>\n",
       "      <th>tweet_stemmed</th>\n",
       "      <th>tweet_lemmatized</th>\n",
       "      <th>text_clean</th>\n",
       "      <th>otext</th>\n",
       "      <th>score</th>\n",
       "    </tr>\n",
       "  </thead>\n",
       "  <tbody>\n",
       "    <tr>\n",
       "      <th>4</th>\n",
       "      <td>2021-02-10 23:54:06</td>\n",
       "      <td>network secur node today soon biggest bear rec...</td>\n",
       "      <td>Twitter Web App</td>\n",
       "      <td>this network is secured by       nodes as of t...</td>\n",
       "      <td>[this, network, is, secured, by, nodes, as, of...</td>\n",
       "      <td>[network, secured, nodes, today, soon, biggest...</td>\n",
       "      <td>network secur node today soon biggest bear rec...</td>\n",
       "      <td>network secur node today soon biggest bear rec...</td>\n",
       "      <td>network secur node today soon biggest bear rec...</td>\n",
       "      <td>This network is secured by 9 508 nodes as of t...</td>\n",
       "      <td>-1</td>\n",
       "    </tr>\n",
       "    <tr>\n",
       "      <th>12</th>\n",
       "      <td>2021-02-10 23:50:59</td>\n",
       "      <td>join first virtual crypto meetup crypto friday...</td>\n",
       "      <td>Twitter Web App</td>\n",
       "      <td>join our first virtual crypto meetup of       ...</td>\n",
       "      <td>[join, our, first, virtual, crypto, meetup, of...</td>\n",
       "      <td>[join, first, virtual, crypto, meetup, crypto,...</td>\n",
       "      <td>join first virtual crypto meetup crypto friday...</td>\n",
       "      <td>join first virtual crypto meetup crypto friday...</td>\n",
       "      <td>join first virtual crypto meetup crypto friday...</td>\n",
       "      <td>Join our first virtual crypto meetup of 2021 -...</td>\n",
       "      <td>+1</td>\n",
       "    </tr>\n",
       "    <tr>\n",
       "      <th>21</th>\n",
       "      <td>2021-02-10 23:46:17</td>\n",
       "      <td>forget know cryptocurr coin list nasdaq etf re...</td>\n",
       "      <td>Twitter for Android</td>\n",
       "      <td>forget all you know about  cryptocurrency  the...</td>\n",
       "      <td>[forget, all, you, know, about, cryptocurrency...</td>\n",
       "      <td>[forget, know, cryptocurrency, coins, listed, ...</td>\n",
       "      <td>forget know cryptocurr coin list nasdaq etf re...</td>\n",
       "      <td>forget know cryptocurr coin list nasdaq etf re...</td>\n",
       "      <td>forget know cryptocurr coin list nasdaq etf re...</td>\n",
       "      <td>Forget all you know about #cryptocurrency \\nTh...</td>\n",
       "      <td>+1</td>\n",
       "    </tr>\n",
       "    <tr>\n",
       "      <th>29</th>\n",
       "      <td>2021-02-10 23:42:22</td>\n",
       "      <td>binanc crypto trade platform beginn expert sign</td>\n",
       "      <td>Twitter Web App</td>\n",
       "      <td>binance is the    crypto trading platform for ...</td>\n",
       "      <td>[binance, is, the, crypto, trading, platform, ...</td>\n",
       "      <td>[binance, crypto, trading, platform, beginners...</td>\n",
       "      <td>binanc crypto trade platform beginn expert sign</td>\n",
       "      <td>binanc crypto trade platform beginn expert sign</td>\n",
       "      <td>binanc crypto trade platform beginn expert sign</td>\n",
       "      <td>Binance is the #1 crypto trading platform for ...</td>\n",
       "      <td>0</td>\n",
       "    </tr>\n",
       "    <tr>\n",
       "      <th>32</th>\n",
       "      <td>2021-02-10 23:40:21</td>\n",
       "      <td>accept bitcoin bitcoincash litecoin ethereum a...</td>\n",
       "      <td>Twitter Web App</td>\n",
       "      <td>we accept  bitcoin   bitcoincash  litecoin and...</td>\n",
       "      <td>[we, accept, bitcoin, bitcoincash, litecoin, a...</td>\n",
       "      <td>[accept, bitcoin, bitcoincash, litecoin, ether...</td>\n",
       "      <td>accept bitcoin bitcoincash litecoin ethereum a...</td>\n",
       "      <td>accept bitcoin bitcoincash litecoin ethereum a...</td>\n",
       "      <td>accept bitcoin bitcoincash litecoin ethereum a...</td>\n",
       "      <td>We accept #Bitcoin, #BitcoinCash #Litecoin and...</td>\n",
       "      <td>0</td>\n",
       "    </tr>\n",
       "    <tr>\n",
       "      <th>...</th>\n",
       "      <td>...</td>\n",
       "      <td>...</td>\n",
       "      <td>...</td>\n",
       "      <td>...</td>\n",
       "      <td>...</td>\n",
       "      <td>...</td>\n",
       "      <td>...</td>\n",
       "      <td>...</td>\n",
       "      <td>...</td>\n",
       "      <td>...</td>\n",
       "      <td>...</td>\n",
       "    </tr>\n",
       "    <tr>\n",
       "      <th>2259714</th>\n",
       "      <td>2022-01-19 19:11:34</td>\n",
       "      <td>pleas follow us instagram btc bnb eth blockcha...</td>\n",
       "      <td>Twitter for Android</td>\n",
       "      <td>please follow us on instagram        btc  bnb ...</td>\n",
       "      <td>[please, follow, us, on, instagram, btc, bnb, ...</td>\n",
       "      <td>[please, follow, us, instagram, btc, bnb, eth,...</td>\n",
       "      <td>pleas follow us instagram btc bnb eth blockcha...</td>\n",
       "      <td>pleas follow us instagram btc bnb eth blockcha...</td>\n",
       "      <td>pleas follow us instagram btc bnb eth blockcha...</td>\n",
       "      <td>Please follow us on Instagram 📸\\n\\nhttps://t.c...</td>\n",
       "      <td>0</td>\n",
       "    </tr>\n",
       "    <tr>\n",
       "      <th>2259727</th>\n",
       "      <td>2022-01-19 19:10:53</td>\n",
       "      <td>may depth btc btcusdt btcusd bitcoin</td>\n",
       "      <td>Twitter Web App</td>\n",
       "      <td>may be depth  btc  btcusdt  btcusd  bitcoin</td>\n",
       "      <td>[may, be, depth, btc, btcusdt, btcusd, bitcoin]</td>\n",
       "      <td>[may, depth, btc, btcusdt, btcusd, bitcoin]</td>\n",
       "      <td>may depth btc btcusdt btcusd bitcoin</td>\n",
       "      <td>may depth btc btcusdt btcusd bitcoin</td>\n",
       "      <td>may depth btc btcusdt btcusd bitcoin</td>\n",
       "      <td>May be depth #BTC #BTCUSDT #BTCUSD #Bitcoin ht...</td>\n",
       "      <td>0</td>\n",
       "    </tr>\n",
       "    <tr>\n",
       "      <th>2259734</th>\n",
       "      <td>2022-01-19 19:10:34</td>\n",
       "      <td>gold btc</td>\n",
       "      <td>Twitter for Android</td>\n",
       "      <td>gold     btc</td>\n",
       "      <td>[gold, btc]</td>\n",
       "      <td>[gold, btc]</td>\n",
       "      <td>gold btc</td>\n",
       "      <td>gold btc</td>\n",
       "      <td>gold btc</td>\n",
       "      <td>🪙Gold ⬆️ #Btc ⬇️</td>\n",
       "      <td>0</td>\n",
       "    </tr>\n",
       "    <tr>\n",
       "      <th>2259775</th>\n",
       "      <td>2022-01-19 19:08:42</td>\n",
       "      <td>need market anyon interest alreadi know social...</td>\n",
       "      <td>Twitter Web App</td>\n",
       "      <td>no need to market it   anyone who is interest...</td>\n",
       "      <td>[no, need, to, market, it, anyone, who, is, in...</td>\n",
       "      <td>[need, market, anyone, interested, already, kn...</td>\n",
       "      <td>need market anyon interest alreadi know social...</td>\n",
       "      <td>need market anyon interest alreadi know social...</td>\n",
       "      <td>need market anyon interest alreadi know social...</td>\n",
       "      <td>@crypto No need to market it - anyone who is i...</td>\n",
       "      <td>+1</td>\n",
       "    </tr>\n",
       "    <tr>\n",
       "      <th>2259782</th>\n",
       "      <td>2022-01-19 19:08:16</td>\n",
       "      <td>send bitcoin take min show expens send btc kno...</td>\n",
       "      <td>Twitter for iPhone</td>\n",
       "      <td>if i send you  bitcoin it takes    mins before...</td>\n",
       "      <td>[if, i, send, you, bitcoin, it, takes, mins, b...</td>\n",
       "      <td>[send, bitcoin, takes, mins, shows, expensive,...</td>\n",
       "      <td>send bitcoin take min show expens send btc kno...</td>\n",
       "      <td>send bitcoin take min show expens send btc kno...</td>\n",
       "      <td>send bitcoin take min show expens send btc kno...</td>\n",
       "      <td>if I send you #BITCOIN it takes 10 mins before...</td>\n",
       "      <td>+1</td>\n",
       "    </tr>\n",
       "  </tbody>\n",
       "</table>\n",
       "<p>202756 rows × 11 columns</p>\n",
       "</div>"
      ],
      "text/plain": [
       "                        date  \\\n",
       "4        2021-02-10 23:54:06   \n",
       "12       2021-02-10 23:50:59   \n",
       "21       2021-02-10 23:46:17   \n",
       "29       2021-02-10 23:42:22   \n",
       "32       2021-02-10 23:40:21   \n",
       "...                      ...   \n",
       "2259714  2022-01-19 19:11:34   \n",
       "2259727  2022-01-19 19:10:53   \n",
       "2259734  2022-01-19 19:10:34   \n",
       "2259775  2022-01-19 19:08:42   \n",
       "2259782  2022-01-19 19:08:16   \n",
       "\n",
       "                                                      text  \\\n",
       "4        network secur node today soon biggest bear rec...   \n",
       "12       join first virtual crypto meetup crypto friday...   \n",
       "21       forget know cryptocurr coin list nasdaq etf re...   \n",
       "29         binanc crypto trade platform beginn expert sign   \n",
       "32       accept bitcoin bitcoincash litecoin ethereum a...   \n",
       "...                                                    ...   \n",
       "2259714  pleas follow us instagram btc bnb eth blockcha...   \n",
       "2259727               may depth btc btcusdt btcusd bitcoin   \n",
       "2259734                                           gold btc   \n",
       "2259775  need market anyon interest alreadi know social...   \n",
       "2259782  send bitcoin take min show expens send btc kno...   \n",
       "\n",
       "                      source  \\\n",
       "4            Twitter Web App   \n",
       "12           Twitter Web App   \n",
       "21       Twitter for Android   \n",
       "29           Twitter Web App   \n",
       "32           Twitter Web App   \n",
       "...                      ...   \n",
       "2259714  Twitter for Android   \n",
       "2259727      Twitter Web App   \n",
       "2259734  Twitter for Android   \n",
       "2259775      Twitter Web App   \n",
       "2259782   Twitter for iPhone   \n",
       "\n",
       "                                               clean_tweet  \\\n",
       "4        this network is secured by       nodes as of t...   \n",
       "12       join our first virtual crypto meetup of       ...   \n",
       "21       forget all you know about  cryptocurrency  the...   \n",
       "29       binance is the    crypto trading platform for ...   \n",
       "32       we accept  bitcoin   bitcoincash  litecoin and...   \n",
       "...                                                    ...   \n",
       "2259714  please follow us on instagram        btc  bnb ...   \n",
       "2259727      may be depth  btc  btcusdt  btcusd  bitcoin     \n",
       "2259734                                    gold     btc      \n",
       "2259775   no need to market it   anyone who is interest...   \n",
       "2259782  if i send you  bitcoin it takes    mins before...   \n",
       "\n",
       "                                               tweet_token  \\\n",
       "4        [this, network, is, secured, by, nodes, as, of...   \n",
       "12       [join, our, first, virtual, crypto, meetup, of...   \n",
       "21       [forget, all, you, know, about, cryptocurrency...   \n",
       "29       [binance, is, the, crypto, trading, platform, ...   \n",
       "32       [we, accept, bitcoin, bitcoincash, litecoin, a...   \n",
       "...                                                    ...   \n",
       "2259714  [please, follow, us, on, instagram, btc, bnb, ...   \n",
       "2259727    [may, be, depth, btc, btcusdt, btcusd, bitcoin]   \n",
       "2259734                                        [gold, btc]   \n",
       "2259775  [no, need, to, market, it, anyone, who, is, in...   \n",
       "2259782  [if, i, send, you, bitcoin, it, takes, mins, b...   \n",
       "\n",
       "                                      tweet_token_filtered  \\\n",
       "4        [network, secured, nodes, today, soon, biggest...   \n",
       "12       [join, first, virtual, crypto, meetup, crypto,...   \n",
       "21       [forget, know, cryptocurrency, coins, listed, ...   \n",
       "29       [binance, crypto, trading, platform, beginners...   \n",
       "32       [accept, bitcoin, bitcoincash, litecoin, ether...   \n",
       "...                                                    ...   \n",
       "2259714  [please, follow, us, instagram, btc, bnb, eth,...   \n",
       "2259727        [may, depth, btc, btcusdt, btcusd, bitcoin]   \n",
       "2259734                                        [gold, btc]   \n",
       "2259775  [need, market, anyone, interested, already, kn...   \n",
       "2259782  [send, bitcoin, takes, mins, shows, expensive,...   \n",
       "\n",
       "                                             tweet_stemmed  \\\n",
       "4        network secur node today soon biggest bear rec...   \n",
       "12       join first virtual crypto meetup crypto friday...   \n",
       "21       forget know cryptocurr coin list nasdaq etf re...   \n",
       "29         binanc crypto trade platform beginn expert sign   \n",
       "32       accept bitcoin bitcoincash litecoin ethereum a...   \n",
       "...                                                    ...   \n",
       "2259714  pleas follow us instagram btc bnb eth blockcha...   \n",
       "2259727               may depth btc btcusdt btcusd bitcoin   \n",
       "2259734                                           gold btc   \n",
       "2259775  need market anyon interest alreadi know social...   \n",
       "2259782  send bitcoin take min show expens send btc kno...   \n",
       "\n",
       "                                          tweet_lemmatized  \\\n",
       "4        network secur node today soon biggest bear rec...   \n",
       "12       join first virtual crypto meetup crypto friday...   \n",
       "21       forget know cryptocurr coin list nasdaq etf re...   \n",
       "29         binanc crypto trade platform beginn expert sign   \n",
       "32       accept bitcoin bitcoincash litecoin ethereum a...   \n",
       "...                                                    ...   \n",
       "2259714  pleas follow us instagram btc bnb eth blockcha...   \n",
       "2259727               may depth btc btcusdt btcusd bitcoin   \n",
       "2259734                                           gold btc   \n",
       "2259775  need market anyon interest alreadi know social...   \n",
       "2259782  send bitcoin take min show expens send btc kno...   \n",
       "\n",
       "                                                text_clean  \\\n",
       "4        network secur node today soon biggest bear rec...   \n",
       "12       join first virtual crypto meetup crypto friday...   \n",
       "21       forget know cryptocurr coin list nasdaq etf re...   \n",
       "29         binanc crypto trade platform beginn expert sign   \n",
       "32       accept bitcoin bitcoincash litecoin ethereum a...   \n",
       "...                                                    ...   \n",
       "2259714  pleas follow us instagram btc bnb eth blockcha...   \n",
       "2259727               may depth btc btcusdt btcusd bitcoin   \n",
       "2259734                                           gold btc   \n",
       "2259775  need market anyon interest alreadi know social...   \n",
       "2259782  send bitcoin take min show expens send btc kno...   \n",
       "\n",
       "                                                     otext score  \n",
       "4        This network is secured by 9 508 nodes as of t...    -1  \n",
       "12       Join our first virtual crypto meetup of 2021 -...    +1  \n",
       "21       Forget all you know about #cryptocurrency \\nTh...    +1  \n",
       "29       Binance is the #1 crypto trading platform for ...     0  \n",
       "32       We accept #Bitcoin, #BitcoinCash #Litecoin and...     0  \n",
       "...                                                    ...   ...  \n",
       "2259714  Please follow us on Instagram 📸\\n\\nhttps://t.c...     0  \n",
       "2259727  May be depth #BTC #BTCUSDT #BTCUSD #Bitcoin ht...     0  \n",
       "2259734                                   🪙Gold ⬆️ #Btc ⬇️     0  \n",
       "2259775  @crypto No need to market it - anyone who is i...    +1  \n",
       "2259782  if I send you #BITCOIN it takes 10 mins before...    +1  \n",
       "\n",
       "[202756 rows x 11 columns]"
      ]
     },
     "execution_count": 16,
     "metadata": {},
     "output_type": "execute_result"
    }
   ],
   "source": [
    "df"
   ]
  },
  {
   "cell_type": "code",
   "execution_count": 17,
   "metadata": {},
   "outputs": [],
   "source": [
    "df.to_csv('Bitcoin_tweets2.csv')"
   ]
  },
  {
   "cell_type": "code",
   "execution_count": null,
   "metadata": {},
   "outputs": [],
   "source": []
  },
  {
   "cell_type": "code",
   "execution_count": 18,
   "metadata": {},
   "outputs": [
    {
     "data": {
      "text/html": [
       "<div>\n",
       "<style scoped>\n",
       "    .dataframe tbody tr th:only-of-type {\n",
       "        vertical-align: middle;\n",
       "    }\n",
       "\n",
       "    .dataframe tbody tr th {\n",
       "        vertical-align: top;\n",
       "    }\n",
       "\n",
       "    .dataframe thead th {\n",
       "        text-align: right;\n",
       "    }\n",
       "</style>\n",
       "<table border=\"1\" class=\"dataframe\">\n",
       "  <thead>\n",
       "    <tr style=\"text-align: right;\">\n",
       "      <th></th>\n",
       "      <th>text</th>\n",
       "    </tr>\n",
       "  </thead>\n",
       "  <tbody>\n",
       "    <tr>\n",
       "      <th>4</th>\n",
       "      <td>network secur node today soon biggest bear rec...</td>\n",
       "    </tr>\n",
       "    <tr>\n",
       "      <th>12</th>\n",
       "      <td>join first virtual crypto meetup crypto friday...</td>\n",
       "    </tr>\n",
       "    <tr>\n",
       "      <th>21</th>\n",
       "      <td>forget know cryptocurr coin list nasdaq etf re...</td>\n",
       "    </tr>\n",
       "    <tr>\n",
       "      <th>29</th>\n",
       "      <td>binanc crypto trade platform beginn expert sign</td>\n",
       "    </tr>\n",
       "    <tr>\n",
       "      <th>32</th>\n",
       "      <td>accept bitcoin bitcoincash litecoin ethereum a...</td>\n",
       "    </tr>\n",
       "  </tbody>\n",
       "</table>\n",
       "</div>"
      ],
      "text/plain": [
       "                                                 text\n",
       "4   network secur node today soon biggest bear rec...\n",
       "12  join first virtual crypto meetup crypto friday...\n",
       "21  forget know cryptocurr coin list nasdaq etf re...\n",
       "29    binanc crypto trade platform beginn expert sign\n",
       "32  accept bitcoin bitcoincash litecoin ethereum a..."
      ]
     },
     "execution_count": 18,
     "metadata": {},
     "output_type": "execute_result"
    }
   ],
   "source": [
    "selected_columns = df[[\"tweet_lemmatized\"]]\n",
    "tweet = selected_columns.copy()\n",
    "tweet = tweet.rename({\"tweet_lemmatized\":\"text\"}, axis='columns')\n",
    "tweet.head()"
   ]
  },
  {
   "cell_type": "code",
   "execution_count": 19,
   "metadata": {},
   "outputs": [],
   "source": [
    "def percentage(part,whole):\n",
    "    return 100 * float(part)/float(whole)\n",
    "#keyword = input('Please enter keyword or hashtag to search: ')\n",
    "noOfTweet = len(tweet.index)\n",
    "#api = tweepy.API(auth, wait_on_rate_limit=True)\n",
    "#tweets = tweepy.Cursor(api.search, q=keyword).items(noOfTweet)\n",
    "positive = 0\n",
    "negative = 0\n",
    "neutral = 0\n",
    "polarity = 0\n",
    "tweet_list = []\n",
    "neutral_list = []\n",
    "negative_list = []\n",
    "positive_list = []\n",
    "for i in tweet['text']:\n",
    "    \n",
    "    #print(tweet.text)\n",
    "    tweet_list.append(i)\n",
    "    analysis = TextBlob(i)\n",
    "    score = SentimentIntensityAnalyzer().polarity_scores(i)\n",
    "    neg = score['neg']\n",
    "    neu = score['neu']\n",
    "    pos = score['pos']\n",
    "    comp = score['compound']\n",
    "    polarity += analysis.sentiment.polarity\n",
    " \n",
    "    if neg > pos:\n",
    "        negative_list.append(i)\n",
    "        negative += 1\n",
    "    elif pos > neg:\n",
    "        positive_list.append(i)\n",
    "        positive += 1\n",
    " \n",
    "    elif pos == neg:\n",
    "        neutral_list.append(i)\n",
    "        neutral += 1\n",
    "positive = percentage(positive, noOfTweet)\n",
    "negative = percentage(negative, noOfTweet)\n",
    "neutral = percentage(neutral, noOfTweet)\n",
    "polarity = percentage(polarity, noOfTweet)\n",
    "positive = format(positive, '.1f')\n",
    "negative = format(negative, '.1f')\n",
    "neutral = format(neutral, '.1f')"
   ]
  },
  {
   "cell_type": "code",
   "execution_count": 20,
   "metadata": {},
   "outputs": [
    {
     "name": "stdout",
     "output_type": "stream",
     "text": [
      "total number:  202756\n",
      "positive number:  99780\n",
      "negative number:  24110\n",
      "neutral number:  78866\n"
     ]
    }
   ],
   "source": [
    "tweet_list = pd.DataFrame(tweet_list)\n",
    "neutral_list = pd.DataFrame(neutral_list)\n",
    "negative_list = pd.DataFrame(negative_list)\n",
    "positive_list = pd.DataFrame(positive_list)\n",
    "print(\"total number: \",len(tweet_list))\n",
    "print(\"positive number: \",len(positive_list))\n",
    "print(\"negative number: \", len(negative_list))\n",
    "print(\"neutral number: \",len(neutral_list))"
   ]
  },
  {
   "cell_type": "code",
   "execution_count": 21,
   "metadata": {},
   "outputs": [
    {
     "data": {
      "image/png": "[encoded data removed]",
      "text/plain": [
       "<Figure size 432x288 with 1 Axes>"
      ]
     },
     "metadata": {},
     "output_type": "display_data"
    }
   ],
   "source": [
    "labels = ['Positive ['+str(positive)+'%]' , 'Neutral ['+str(neutral)+'%]','Negative ['+str(negative)+'%]']\n",
    "sizes = [positive, neutral, negative]\n",
    "colors = ['lightgreen', 'lightblue','red']\n",
    "patches, texts = plt.pie(sizes,colors=colors, startangle=90)\n",
    "plt.style.use('default')\n",
    "plt.legend(labels)\n",
    "plt.title('Sentiment Analysis Result for Bitcoin')\n",
    "plt.axis('equal')\n",
    "plt.show()"
   ]
  },
  {
   "cell_type": "code",
   "execution_count": 22,
   "metadata": {},
   "outputs": [
    {
     "name": "stdout",
     "output_type": "stream",
     "text": [
      "This is the original text:\n",
      "@gegelsmr I like what I see when I look around 👋💎🙌🚀❤ #bitcoin #btc\n",
      "\n",
      "\n",
      "Cleaned text after removing hashtags and usernames:\n",
      " i like what i see when i look around        bitcoin  btc\n",
      "\n",
      "\n",
      "Tokenized tweet:\n",
      "['i', 'like', 'what', 'i', 'see', 'when', 'i', 'look', 'around', 'bitcoin', 'btc']\n",
      "\n",
      "\n",
      "Tokenized tweet after filtering:\n",
      "['like', 'see', 'look', 'around', 'bitcoin', 'btc']\n",
      "\n",
      "\n",
      "Stemming:\n",
      "like see look around bitcoin btc\n",
      "\n",
      "\n",
      "Lemmatizing:\n",
      "like see look around bitcoin btc\n"
     ]
    }
   ],
   "source": [
    "x= df.iloc[33:34, :]\n",
    "print(\"This is the original text:\")\n",
    "print(x['otext'].values[0])\n",
    "print('\\n')\n",
    "print(\"Cleaned text after removing hashtags and usernames:\")\n",
    "print(x['clean_tweet'].values[0])\n",
    "print('\\n')\n",
    "print(\"Tokenized tweet:\")\n",
    "print(x['tweet_token'].values[0])\n",
    "print('\\n')\n",
    "print(\"Tokenized tweet after filtering:\")\n",
    "print(x['tweet_token_filtered'].values[0])\n",
    "print('\\n')\n",
    "print(\"Stemming:\")\n",
    "print(x['tweet_stemmed'].values[0])\n",
    "print('\\n')\n",
    "print(\"Lemmatizing:\")\n",
    "print(x['tweet_lemmatized'].values[0])"
   ]
  },
  {
   "cell_type": "code",
   "execution_count": 23,
   "metadata": {},
   "outputs": [],
   "source": [
    "from sklearn.model_selection import train_test_split\n",
    "train, test = train_test_split(df, test_size=0.2)"
   ]
  },
  {
   "cell_type": "code",
   "execution_count": 24,
   "metadata": {},
   "outputs": [
    {
     "data": {
      "text/plain": [
       "array([[0, 0, 0, ..., 0, 0, 0],\n",
       "       [0, 0, 0, ..., 0, 0, 0],\n",
       "       [0, 0, 0, ..., 0, 0, 0],\n",
       "       ...,\n",
       "       [0, 0, 0, ..., 0, 0, 0],\n",
       "       [0, 0, 0, ..., 0, 0, 0],\n",
       "       [0, 0, 0, ..., 0, 0, 0]], dtype=int64)"
      ]
     },
     "execution_count": 24,
     "metadata": {},
     "output_type": "execute_result"
    }
   ],
   "source": [
    "from sklearn.feature_extraction.text import CountVectorizer\n",
    "bow_vectorizer = CountVectorizer(max_df=0.90, min_df=2, max_features=1000, stop_words='english')\n",
    "testbow_lemm = bow_vectorizer.fit_transform(test['tweet_lemmatized'])\n",
    "testbow_lemm.toarray()\n",
    "bow_vectorizer\n",
    "# bag-of-words feature matrix -\n",
    "trainbow_stem = bow_vectorizer.fit_transform(train['tweet_stemmed'])\n",
    "trainbow_stem\n",
    "trainbow_stem.toarray()"
   ]
  },
  {
   "cell_type": "code",
   "execution_count": 25,
   "metadata": {},
   "outputs": [
    {
     "data": {
      "text/plain": [
       "TfidfVectorizer(max_df=0.9, max_features=1000, min_df=2, stop_words='english')"
      ]
     },
     "execution_count": 25,
     "metadata": {},
     "output_type": "execute_result"
    }
   ],
   "source": [
    "trainbow_lemm = bow_vectorizer.fit_transform(train['tweet_lemmatized'])\n",
    "trainbow_lemm.toarray()\n",
    "from sklearn.feature_extraction.text import TfidfVectorizer\n",
    "tfidf_vectorizer = TfidfVectorizer(max_df=0.90, min_df=2, max_features=1000, stop_words='english')\n",
    "tfidf_vectorizer"
   ]
  },
  {
   "cell_type": "code",
   "execution_count": 26,
   "metadata": {},
   "outputs": [
    {
     "data": {
      "text/plain": [
       "array([[0., 0., 0., ..., 0., 0., 0.],\n",
       "       [0., 0., 0., ..., 0., 0., 0.],\n",
       "       [0., 0., 0., ..., 0., 0., 0.],\n",
       "       ...,\n",
       "       [0., 0., 0., ..., 0., 0., 0.],\n",
       "       [0., 0., 0., ..., 0., 0., 0.],\n",
       "       [0., 0., 0., ..., 0., 0., 0.]])"
      ]
     },
     "execution_count": 26,
     "metadata": {},
     "output_type": "execute_result"
    }
   ],
   "source": [
    "traintfidf_stem = tfidf_vectorizer.fit_transform(train['tweet_stemmed'])\n",
    "traintfidf_stem.toarray()\n",
    "traintfidf_lemm = tfidf_vectorizer.fit_transform(train['tweet_lemmatized'])\n",
    "traintfidf_lemm.toarray()"
   ]
  },
  {
   "cell_type": "code",
   "execution_count": 27,
   "metadata": {},
   "outputs": [
    {
     "data": {
      "text/plain": [
       "array([[0, 0, 0, ..., 0, 0, 0],\n",
       "       [0, 0, 0, ..., 0, 0, 0],\n",
       "       [0, 0, 0, ..., 0, 0, 0],\n",
       "       ...,\n",
       "       [0, 0, 0, ..., 0, 0, 0],\n",
       "       [0, 0, 0, ..., 0, 0, 0],\n",
       "       [0, 0, 0, ..., 0, 0, 0]], dtype=int64)"
      ]
     },
     "execution_count": 27,
     "metadata": {},
     "output_type": "execute_result"
    }
   ],
   "source": [
    "from sklearn.feature_extraction.text import CountVectorizer\n",
    "bow_vectorizer = CountVectorizer(max_df=0.90, min_df=2, max_features=1000, stop_words='english')\n",
    "bow_vectorizer\n",
    "testbow_stem = bow_vectorizer.fit_transform(test['tweet_stemmed'])\n",
    "testbow_stem.toarray()"
   ]
  },
  {
   "cell_type": "code",
   "execution_count": 28,
   "metadata": {},
   "outputs": [
    {
     "data": {
      "text/plain": [
       "TfidfVectorizer(max_df=0.9, max_features=1000, min_df=2, stop_words='english')"
      ]
     },
     "execution_count": 28,
     "metadata": {},
     "output_type": "execute_result"
    }
   ],
   "source": [
    "testbow_lemm = bow_vectorizer.fit_transform(test['tweet_lemmatized'])\n",
    "testbow_lemm.toarray()\n",
    "from sklearn.feature_extraction.text import TfidfVectorizer\n",
    "tfidf_vectorizer = TfidfVectorizer(max_df=0.90, min_df=2, max_features=1000, stop_words='english')\n",
    "tfidf_vectorizer"
   ]
  },
  {
   "cell_type": "code",
   "execution_count": 29,
   "metadata": {},
   "outputs": [
    {
     "data": {
      "text/plain": [
       "array([[0., 0., 0., ..., 0., 0., 0.],\n",
       "       [0., 0., 0., ..., 0., 0., 0.],\n",
       "       [0., 0., 0., ..., 0., 0., 0.],\n",
       "       ...,\n",
       "       [0., 0., 0., ..., 0., 0., 0.],\n",
       "       [0., 0., 0., ..., 0., 0., 0.],\n",
       "       [0., 0., 0., ..., 0., 0., 0.]])"
      ]
     },
     "execution_count": 29,
     "metadata": {},
     "output_type": "execute_result"
    }
   ],
   "source": [
    "testtfidf_stem = tfidf_vectorizer.fit_transform(test['tweet_stemmed'])\n",
    "testtfidf_stem.toarray()\n",
    "testtfidf_lemm = tfidf_vectorizer.fit_transform(test['tweet_lemmatized'])\n",
    "testtfidf_lemm.toarray()"
   ]
  },
  {
   "cell_type": "code",
   "execution_count": 30,
   "metadata": {},
   "outputs": [],
   "source": [
    "# Importing Libraries\n",
    "from sklearn.model_selection import train_test_split\n",
    "from sklearn.linear_model import LogisticRegression\n",
    "from sklearn.svm import SVC\n",
    "from sklearn.naive_bayes import GaussianNB\n",
    "from sklearn.metrics import confusion_matrix,classification_report,accuracy_score"
   ]
  },
  {
   "cell_type": "code",
   "execution_count": 31,
   "metadata": {},
   "outputs": [],
   "source": [
    "X1=traintfidf_lemm\n",
    "y1=train['score']"
   ]
  },
  {
   "cell_type": "code",
   "execution_count": 32,
   "metadata": {},
   "outputs": [],
   "source": [
    "x1train,x1test,y1train,y1test=train_test_split(X1,y1,test_size=.3,random_state=42)"
   ]
  },
  {
   "cell_type": "code",
   "execution_count": 33,
   "metadata": {},
   "outputs": [],
   "source": [
    "from sklearn.model_selection import KFold\n",
    "from sklearn.model_selection import cross_validate\n",
    "cv = KFold(n_splits=10, random_state=1, shuffle=True)\n",
    "lr1=LogisticRegression()\n"
   ]
  },
  {
   "cell_type": "code",
   "execution_count": 42,
   "metadata": {},
   "outputs": [
    {
     "name": "stdout",
     "output_type": "stream",
     "text": [
      "Precision: 0.930 (0.003)\n",
      "Recall: 0.848 (0.004)\n",
      "Accuracy: 0.917 (0.002)\n",
      "F1 macro : 0.880 (0.004)\n"
     ]
    }
   ],
   "source": [
    "# evaluate a logistic regression model using k-fold cross-validation\n",
    "from numpy import mean\n",
    "from numpy import std\n",
    "from sklearn.model_selection import cross_val_score\n",
    "scoring = ['precision_macro', 'recall_macro','accuracy','f1_macro']\n",
    "scores = cross_validate(lr1, X1, y1,scoring=scoring, cv=cv, n_jobs=-1)\n",
    "print('Precision: %.3f (%.3f)' % (mean(scores['test_precision_macro']), std(scores['test_precision_macro'])))\n",
    "print('Recall: %.3f (%.3f)' % (mean(scores['test_recall_macro']), std(scores['test_recall_macro'])))\n",
    "print('Accuracy: %.3f (%.3f)' % (mean(scores['test_accuracy']), std(scores['test_accuracy'])))\n",
    "print('F1 macro : %.3f (%.3f)' % (mean(scores['test_f1_macro']), std(scores['test_f1_macro'])))"
   ]
  },
  {
   "cell_type": "code",
   "execution_count": 43,
   "metadata": {},
   "outputs": [
    {
     "name": "stdout",
     "output_type": "stream",
     "text": [
      "Precision: 0.929 (0.003)\n",
      "Recall: 0.856 (0.004)\n",
      "Accuracy: 0.920 (0.002)\n",
      "F1 macro : 0.885 (0.004)\n"
     ]
    }
   ],
   "source": [
    "svc1=SVC()\n",
    "scores = cross_validate(svc1, X1, y1,scoring=scoring, cv=cv, n_jobs=-1)\n",
    "print('Precision: %.3f (%.3f)' % (mean(scores['test_precision_macro']), std(scores['test_precision_macro'])))\n",
    "print('Recall: %.3f (%.3f)' % (mean(scores['test_recall_macro']), std(scores['test_recall_macro'])))\n",
    "print('Accuracy: %.3f (%.3f)' % (mean(scores['test_accuracy']), std(scores['test_accuracy'])))\n",
    "print('F1 macro : %.3f (%.3f)' % (mean(scores['test_f1_macro']), std(scores['test_f1_macro'])))"
   ]
  },
  {
   "cell_type": "code",
   "execution_count": 44,
   "metadata": {},
   "outputs": [
    {
     "data": {
      "text/plain": [
       "4     [network, secur, node, today, soon, biggest, b...\n",
       "12    [join, first, virtual, crypto, meetup, crypto,...\n",
       "21    [forget, know, cryptocurr, coin, list, nasdaq,...\n",
       "29    [binanc, crypto, trade, platform, beginn, expe...\n",
       "32    [accept, bitcoin, bitcoincash, litecoin, ether...\n",
       "Name: text, dtype: object"
      ]
     },
     "execution_count": 44,
     "metadata": {},
     "output_type": "execute_result"
    }
   ],
   "source": [
    "tokenized_tweet=df['text'].apply(lambda x: x.split())\n",
    "tokenized_tweet.head(5)"
   ]
  },
  {
   "cell_type": "code",
   "execution_count": 45,
   "metadata": {},
   "outputs": [],
   "source": [
    "from sklearn.feature_extraction.text import CountVectorizer\n",
    "from nltk.tokenize import RegexpTokenizer\n",
    "token = RegexpTokenizer(r'[a-zA-Z0-9]+')\n",
    "cv1 = CountVectorizer(stop_words='english',ngram_range = (1,1),tokenizer = token.tokenize)\n",
    "text_counts = cv1.fit_transform(df['text'].values.astype('U'))"
   ]
  },
  {
   "cell_type": "code",
   "execution_count": 46,
   "metadata": {},
   "outputs": [],
   "source": [
    "from sklearn.model_selection import train_test_split\n",
    "X=text_counts\n",
    "y=df['score']\n",
    "X_train, X_test, y_train, y_test = train_test_split(X, y, test_size=0.20,random_state=19)"
   ]
  },
  {
   "cell_type": "code",
   "execution_count": 47,
   "metadata": {},
   "outputs": [
    {
     "name": "stdout",
     "output_type": "stream",
     "text": [
      "Precision: 0.755 (0.003)\n",
      "Recall: 0.772 (0.003)\n",
      "Accuracy: 0.805 (0.002)\n",
      "F1 macro : 0.762 (0.003)\n"
     ]
    }
   ],
   "source": [
    "cnb = ComplementNB()\n",
    "scores = cross_validate(cnb, X1, y1,scoring=scoring, cv=cv, n_jobs=-1)\n",
    "print('Precision: %.3f (%.3f)' % (mean(scores['test_precision_macro']), std(scores['test_precision_macro'])))\n",
    "print('Recall: %.3f (%.3f)' % (mean(scores['test_recall_macro']), std(scores['test_recall_macro'])))\n",
    "print('Accuracy: %.3f (%.3f)' % (mean(scores['test_accuracy']), std(scores['test_accuracy'])))\n",
    "print('F1 macro : %.3f (%.3f)' % (mean(scores['test_f1_macro']), std(scores['test_f1_macro'])))"
   ]
  },
  {
   "cell_type": "code",
   "execution_count": 48,
   "metadata": {},
   "outputs": [],
   "source": [
    "#train_X, val_X, train_y, val_y = train_test_split(X1, y1,test_size = 0.20,random_state = 42)\n",
    "#from sklearn.ensemble import RandomForestRegressor\n",
    "#from sklearn.metrics import mean_absolute_error\n",
    "\n",
    "#forest_model = RandomForestRegressor(n_estimators= 1000, random_state=42)\n",
    "#forest_model.fit(train_X, train_y)\n",
    "#melb_preds = forest_model.predict(val_X)\n",
    "#print(accuracy_score(val_y, melb_preds))\n",
    "#print(confusion_matrix(predict_lr1,y1test))\n",
    "#print(classification_report(melb_preds,val_y))\n",
    "df.to_csv('Bitcointweets3.csv')"
   ]
  },
  {
   "cell_type": "code",
   "execution_count": 49,
   "metadata": {},
   "outputs": [
    {
     "name": "stdout",
     "output_type": "stream",
     "text": [
      "Precision: 0.926 (0.003)\n",
      "Recall: 0.850 (0.004)\n",
      "Accuracy: 0.917 (0.002)\n",
      "F1 macro : 0.880 (0.003)\n"
     ]
    }
   ],
   "source": [
    "labels = df['score']\n",
    "dfi = df['text']\n",
    "from sklearn.model_selection import train_test_split\n",
    "import numpy as np\n",
    "# Split the data into training and testing sets\n",
    "#train_features, test_features, train_labels, test_labels = train_test_split(dfi, labels, test_size = 0.20, random_state = 42)\n",
    "# Import the model we are using\n",
    "from sklearn.ensemble import RandomForestClassifier\n",
    "# Instantiate model \n",
    "rf = RandomForestClassifier(n_estimators= 100, random_state=42,verbose=1)\n",
    "# Train the model on training data\n",
    "scores = cross_validate(rf, X1, y1,scoring=scoring, cv=cv, n_jobs=-1)\n",
    "print('Precision: %.3f (%.3f)' % (mean(scores['test_precision_macro']), std(scores['test_precision_macro'])))\n",
    "print('Recall: %.3f (%.3f)' % (mean(scores['test_recall_macro']), std(scores['test_recall_macro'])))\n",
    "print('Accuracy: %.3f (%.3f)' % (mean(scores['test_accuracy']), std(scores['test_accuracy'])))\n",
    "print('F1 macro : %.3f (%.3f)' % (mean(scores['test_f1_macro']), std(scores['test_f1_macro'])))"
   ]
  },
  {
   "cell_type": "code",
   "execution_count": 50,
   "metadata": {},
   "outputs": [
    {
     "name": "stdout",
     "output_type": "stream",
     "text": [
      "Precision: 0.834 (0.003)\n",
      "Recall: 0.823 (0.004)\n",
      "Accuracy: 0.876 (0.002)\n",
      "F1 macro : 0.829 (0.003)\n"
     ]
    }
   ],
   "source": [
    "from sklearn.tree import DecisionTreeClassifier\n",
    "X1_train, X1_test, y1_train, y1_test = train_test_split(X1, y1, test_size=0.3, random_state=1)\n",
    "# Create Decision Tree classifer object\n",
    "clf = DecisionTreeClassifier()\n",
    "\n",
    "# Train Decision Tree Classifer\n",
    "clf = clf.fit(X1_train,y1_train)\n",
    "scores = cross_validate(clf, X1, y1,scoring=scoring, cv=cv, n_jobs=-1)\n",
    "print('Precision: %.3f (%.3f)' % (mean(scores['test_precision_macro']), std(scores['test_precision_macro'])))\n",
    "print('Recall: %.3f (%.3f)' % (mean(scores['test_recall_macro']), std(scores['test_recall_macro'])))\n",
    "print('Accuracy: %.3f (%.3f)' % (mean(scores['test_accuracy']), std(scores['test_accuracy'])))\n",
    "print('F1 macro : %.3f (%.3f)' % (mean(scores['test_f1_macro']), std(scores['test_f1_macro'])))"
   ]
  },
  {
   "cell_type": "code",
   "execution_count": null,
   "metadata": {},
   "outputs": [],
   "source": [
    "import pickle\n",
    "#pickle.dump(clf, open('dectree.sav', 'wb'))\n",
    "#pickle.dump(rf, open('rf.sav', 'wb'))\n",
    "#pickle.dump(cnb, open('cnb.sav', 'wb'))\n",
    "#pickle.dump(svc1, open('svc.sav', 'wb'))\n",
    "#pickle.dump(lr1, open('lr.sav', 'wb'))\n",
    "#pickle.dump(tfidf_vectorizer, open('tfidf.sav', 'wb'))\n",
    "#pickle.dump(bow_vectorizer, open('bow.sav', 'wb'))\n",
    "#pickle.dump(cv,open('cv.sav','wb'))"
   ]
  },
  {
   "cell_type": "code",
   "execution_count": null,
   "metadata": {},
   "outputs": [],
   "source": []
  }
 ],
 "metadata": {
  "kernelspec": {
   "display_name": "Python 3 (ipykernel)",
   "language": "python",
   "name": "python3"
  },
  "language_info": {
   "codemirror_mode": {
    "name": "ipython",
    "version": 3
   },
   "file_extension": ".py",
   "mimetype": "text/x-python",
   "name": "python",
   "nbconvert_exporter": "python",
   "pygments_lexer": "ipython3",
   "version": "3.9.7"
  }
 },
 "nbformat": 4,
 "nbformat_minor": 4
}
